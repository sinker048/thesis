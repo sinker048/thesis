{
 "cells": [
  {
   "cell_type": "markdown",
   "metadata": {},
   "source": [
    "# 載入package"
   ]
  },
  {
   "cell_type": "code",
   "execution_count": 1,
   "metadata": {},
   "outputs": [],
   "source": [
    "import numpy as np\n",
    "import pandas as pd\n",
    "from glob import glob\n",
    "from toolz import pipe, partial\n",
    "from os.path import join, splitext\n",
    "from mpmath import mp"
   ]
  },
  {
   "cell_type": "code",
   "execution_count": 2,
   "metadata": {},
   "outputs": [],
   "source": [
    "import numpy as np\n",
    "from collections import defaultdict\n",
    "from scipy.optimize import minimize\n",
    "pd.set_option('display.max_columns', None)"
   ]
  },
  {
   "cell_type": "code",
   "execution_count": 3,
   "metadata": {},
   "outputs": [],
   "source": [
    "from sklearn.preprocessing import LabelEncoder"
   ]
  },
  {
   "cell_type": "code",
   "execution_count": 4,
   "metadata": {},
   "outputs": [],
   "source": [
    "from scipy.linalg import block_diag\n",
    "from numpy.linalg import inv\n",
    "import copy"
   ]
  },
  {
   "cell_type": "markdown",
   "metadata": {},
   "source": [
    "# 整理資料"
   ]
  },
  {
   "cell_type": "code",
   "execution_count": 5,
   "metadata": {},
   "outputs": [],
   "source": [
    "def get_data(sackmann_dir, tour='atp', keep_davis_cup=False):\n",
    "\n",
    "    all_csvs = glob(join(sackmann_dir, f'*{tour}_matches_doubles_????.csv'))\n",
    "    all_csvs = sorted(all_csvs, key=lambda x: int(splitext(x)[0][-4:]))\n",
    "\n",
    "    levels_to_drop = ['C', 'S']\n",
    "\n",
    "    if not keep_davis_cup:\n",
    "        levels_to_drop.append('D')\n",
    "\n",
    "    data = pipe(all_csvs,\n",
    "                # Read CSV\n",
    "                lambda y: map(partial(pd.read_csv, encoding=\"ISO=8859-1\",index_col=False), y),\n",
    "                # Drop NAs in important fields\n",
    "                lambda y: map(lambda x: x.dropna(\n",
    "                    subset=['winner1_name', 'loser1_name', 'winner2_name', 'loser2_name','score']),\n",
    "                    y),\n",
    "                # Drop retirements and walkovers\n",
    "                # TODO: Make this optional\n",
    "                lambda y: map(lambda x:\n",
    "                              x[~x['score'].astype(str).str.contains(\n",
    "                                'RET|W/O|DEF|nbsp|Def.')],\n",
    "                              y),\n",
    "                # Drop scores that appear truncated\n",
    "                lambda y: map(lambda x: x[\n",
    "                    x['score'].astype(str).str.len() > 4],\n",
    "                    y),\n",
    "                # Drop challengers and futures\n",
    "                # TODO: Make this optional too\n",
    "                lambda y: map(lambda x: x[\n",
    "                    ~x['tourney_level'].isin(levels_to_drop)],\n",
    "                    y),\n",
    "                pd.concat,\n",
    "                )\n",
    "\n",
    "    round_numbers = {\n",
    "        'R128': 1,\n",
    "        'RR': 1,\n",
    "        'R64': 2,\n",
    "        'R32': 3,\n",
    "        'R16': 4,\n",
    "        'QF': 5,\n",
    "        'SF': 6,\n",
    "        'F': 7\n",
    "    }\n",
    "\n",
    "    # Drop rounds outside this list\n",
    "    to_keep = data['round'].isin(round_numbers)\n",
    "    data = data[to_keep]\n",
    "\n",
    "    # Add a numerical round number\n",
    "    data['round_number'] = data['round'].replace(round_numbers)\n",
    "\n",
    "    # Add date information\n",
    "    data['tourney_date'] = pd.to_datetime(\n",
    "        data['tourney_date'].astype(int).astype(str), format='%Y%m%d')\n",
    "    data['year'] = data['tourney_date'].dt.year\n",
    "\n",
    "    # Sort by date and round and reset index\n",
    "    data = data.sort_values(['tourney_date', 'round_number'])\n",
    "    data = data.reset_index(drop=True)\n",
    "\n",
    "    data['pts_won_serve_winner'] = data['w_1stWon'] + data['w_2ndWon']\n",
    "    data['pts_won_serve_loser'] = data['l_1stWon'] + data['l_2ndWon']\n",
    "\n",
    "    data['pts_played_serve_winner'] = data['w_svpt']\n",
    "    data['pts_played_serve_loser'] = data['l_svpt']\n",
    "\n",
    "    # Add serve % won\n",
    "    data['spw_winner'] = (data['w_1stWon'] + data['w_2ndWon']) / data['w_svpt']\n",
    "    data['spw_loser'] = (data['l_1stWon'] + data['l_2ndWon']) / data['l_svpt']\n",
    "\n",
    "    return data"
   ]
  },
  {
   "cell_type": "markdown",
   "metadata": {},
   "source": [
    "資料來自:https://github.com/JeffSackmann/tennis_atp"
   ]
  },
  {
   "cell_type": "markdown",
   "metadata": {},
   "source": [
    "將雙打的資料整合起來"
   ]
  },
  {
   "cell_type": "code",
   "execution_count": 6,
   "metadata": {},
   "outputs": [],
   "source": [
    "data = get_data('tennis_atp-master/tennis_atp-master/')"
   ]
  },
  {
   "cell_type": "markdown",
   "metadata": {},
   "source": [
    "收集2010年至2019年的比賽"
   ]
  },
  {
   "cell_type": "code",
   "execution_count": 7,
   "metadata": {},
   "outputs": [],
   "source": [
    "data = data[data['tourney_date'].dt.year >= 2010]\n",
    "to_use = data[data['tourney_date'].dt.year <= 2019]"
   ]
  },
  {
   "cell_type": "markdown",
   "metadata": {},
   "source": [
    "將資料儲存至csv檔"
   ]
  },
  {
   "cell_type": "code",
   "execution_count": 8,
   "metadata": {},
   "outputs": [],
   "source": [
    "to_use.to_csv(\"double.csv\",index=False)"
   ]
  },
  {
   "cell_type": "code",
   "execution_count": 9,
   "metadata": {},
   "outputs": [],
   "source": [
    "Train = to_use[to_use['tourney_date'].dt.year <= 2017]"
   ]
  },
  {
   "cell_type": "code",
   "execution_count": 10,
   "metadata": {},
   "outputs": [],
   "source": [
    "Test = to_use[to_use['tourney_date'].dt.year > 2017]"
   ]
  },
  {
   "cell_type": "markdown",
   "metadata": {},
   "source": [
    "各資料集的場地資料"
   ]
  },
  {
   "cell_type": "code",
   "execution_count": 11,
   "metadata": {},
   "outputs": [
    {
     "data": {
      "text/plain": [
       "Hard     5548\n",
       "Clay     3112\n",
       "Grass    1199\n",
       "Name: surface, dtype: int64"
      ]
     },
     "execution_count": 11,
     "metadata": {},
     "output_type": "execute_result"
    }
   ],
   "source": [
    "Train['surface'].value_counts()"
   ]
  },
  {
   "cell_type": "code",
   "execution_count": 12,
   "metadata": {},
   "outputs": [
    {
     "data": {
      "text/plain": [
       "Hard     1464\n",
       "Clay      767\n",
       "Grass     340\n",
       "Name: surface, dtype: int64"
      ]
     },
     "execution_count": 12,
     "metadata": {},
     "output_type": "execute_result"
    }
   ],
   "source": [
    "Test['surface'].value_counts()"
   ]
  },
  {
   "cell_type": "code",
   "execution_count": 13,
   "metadata": {},
   "outputs": [
    {
     "data": {
      "text/plain": [
       "Hard     7012\n",
       "Clay     3879\n",
       "Grass    1539\n",
       "Name: surface, dtype: int64"
      ]
     },
     "execution_count": 13,
     "metadata": {},
     "output_type": "execute_result"
    }
   ],
   "source": [
    "to_use['surface'].value_counts()"
   ]
  },
  {
   "cell_type": "markdown",
   "metadata": {},
   "source": [
    "資料集的比賽場數"
   ]
  },
  {
   "cell_type": "markdown",
   "metadata": {},
   "source": [
    "|Dataset|Train|Test|Total|\n",
    "|---|---|---|---|\n",
    "|Begin|2010|2018|2010|\n",
    "|End|2017|2019|2019|\n",
    "|Hard|5548|1464|7012|\n",
    "|Clay|3112|767|3879|\n",
    "|Grass|1199|340|1539|\n",
    "|Total|9859|2571|12430|"
   ]
  },
  {
   "cell_type": "markdown",
   "metadata": {},
   "source": [
    "# B-T Model"
   ]
  },
  {
   "cell_type": "code",
   "execution_count": 14,
   "metadata": {},
   "outputs": [],
   "source": [
    "Train = Train.reset_index()\n",
    "to_use = to_use.reset_index()"
   ]
  },
  {
   "cell_type": "code",
   "execution_count": 15,
   "metadata": {},
   "outputs": [],
   "source": [
    "def calculate_ratings(data,start_mean = 1500,start_var = (100)**2,beta_square = 3**2,k = 0.0001,gamma_q =1/2):\n",
    "    '''\n",
    "    Args:\n",
    "        data: The atp matches double game\n",
    "        start_mean: Each of the player start with performance mean\n",
    "        start_var: Each of the player start with performance variance\n",
    "        beta_square: the bias of the uncertainty about the actual performance X\n",
    "        k: the small positive number to prevent variance from being negative\n",
    "        gamma_q: update rules\n",
    "    Return: \n",
    "        player_rate: each player skill\n",
    "    '''\n",
    "    winner_double = list(zip(data['winner1_name'],data['winner2_name']))\n",
    "    loser_double = list(zip(data['loser1_name'],data['loser2_name']))\n",
    "    player_double = list(zip(data['winner1_name'],data['winner2_name'],data['loser1_name'],data['loser2_name']))\n",
    "    prior_rating = defaultdict(lambda: (start_mean, start_var))\n",
    "    player_rating = list()\n",
    "    total_discrepancy = 0\n",
    "    for game in np.arange(data.shape[0]):\n",
    "        # check whether the player has play before\n",
    "        current_players = player_double[game]\n",
    "        for player in current_players:\n",
    "            if player not in prior_rating:\n",
    "                prior_rating[player]\n",
    "        # collect prior rating in player_rating        \n",
    "        player_rating.append(prior_rating.copy())\n",
    "        \n",
    "        new_rating = prior_rating.copy()\n",
    "        # each player mean & variance\n",
    "        winner1_mean,winner1_var = new_rating[current_players[0]]\n",
    "        winner2_mean,winner2_var = new_rating[current_players[1]]\n",
    "        loser1_mean,loser1_var = new_rating[current_players[2]]\n",
    "        loser2_mean,loser2_var = new_rating[current_players[3]]\n",
    "        # calculate team meam & variance\n",
    "        winner_mean = sum([winner1_mean,winner2_mean])\n",
    "        winner_var = sum([winner1_var,winner2_var])\n",
    "        loser_mean = sum([loser1_mean,loser2_mean])\n",
    "        loser_var = sum([loser1_var,loser2_var])\n",
    "        # calculate c_iq\n",
    "        c_iq = np.sqrt(winner_var + loser_var + 2 * beta_square)\n",
    "        # calculate p_iq ,p_qi   p_iq是指預期比賽結果\n",
    "        p_iq = np.exp(winner_mean/c_iq)/(np.exp(winner_mean/c_iq) + np.exp(loser_mean/c_iq))\n",
    "        p_qi = np.exp(loser_mean/c_iq)/(np.exp(winner_mean/c_iq) + np.exp(loser_mean/c_iq))\n",
    "        # sum discrepancy\n",
    "        discrepancy = -np.log(p_iq)\n",
    "        total_discrepancy += discrepancy\n",
    "        # define s 比賽結果\n",
    "        winner_s, loser_s = 1, 0\n",
    "        # calculate delta_q, delta_i\n",
    "        delta_q = winner_var/c_iq*(winner_s-p_iq)\n",
    "        delta_i = loser_var/c_iq*(loser_s-p_qi)\n",
    "        # calculate eta_q, eta_i\n",
    "        eta_q = gamma_q * (np.sqrt(winner_var)/c_iq)**2 * p_iq * p_qi\n",
    "        eta_i = gamma_q * (np.sqrt(loser_var)/c_iq)**2 * p_iq * p_qi\n",
    "        # calculate omega_i, omega_q\n",
    "        omega_i = delta_q\n",
    "        omega_q = delta_i\n",
    "        # calculate Delta_i, Delta_q\n",
    "        Delta_i = eta_q\n",
    "        Delta_q = eta_i\n",
    "        # Indiviual skill update\n",
    "        # update winner\n",
    "        new_rating[current_players[0]] = (winner1_mean + winner1_var/winner_var*omega_i, winner1_var*np.max([1-winner1_var/winner_var*Delta_i,k]))\n",
    "        new_rating[current_players[1]] = (winner2_mean + winner2_var/winner_var*omega_i, winner2_var*np.max([1-winner2_var/winner_var*Delta_i,k]))\n",
    "        # update loser\n",
    "        new_rating[current_players[2]] = (loser1_mean + loser1_var/loser_var*omega_q, loser1_var*np.max([1-loser1_var/loser_var*Delta_q,k]))\n",
    "        new_rating[current_players[3]] = (loser2_mean + loser2_var/loser_var*omega_q, loser2_var*np.max([1-loser2_var/loser_var*Delta_q,k]))\n",
    "        # update prior rating\n",
    "        prior_rating = new_rating\n",
    "    return player_rating, total_discrepancy"
   ]
  },
  {
   "cell_type": "code",
   "execution_count": 16,
   "metadata": {},
   "outputs": [],
   "source": [
    "def optimize_parameter(\n",
    "    data, \n",
    "    start_variance= 20 ** 2, \n",
    "    beta_square = 3 ** 2,\n",
    "    verbose = True,\n",
    "    tolerance = 1e-2,\n",
    "):\n",
    "    '''Fits the parameters in B-T model.\n",
    "    Args:\n",
    "    winners: The array of winners for each of N contests, of shape [N, 2].\n",
    "    losers: The array of losers for each of N contests, of shape [N, 2].\n",
    "    surface: The array of surfaces for each of N contest, of shape [N, 3].\n",
    "    beta: The uncontral variances of the game\n",
    "    start_variance_1: The initial variance of the surface 1\n",
    "    verbose: Whether or not to print the progress of the optimisation.\n",
    "    tolerance: The tolerance required for the optimisation to successfully terminate.\n",
    "    '''\n",
    "    def fun_to_minimize(theta):\n",
    "        # Constrain\n",
    "        variance = theta \n",
    "        _, discrepancy = calculate_ratings(data = data,start_mean = 1500,start_var = variance ,beta_square = beta_square,k = 0.0001,gamma_q =1/2)\n",
    "        \n",
    "        if verbose:\n",
    "            print('variance: {} ; discrepancy: {}'.format(variance[0],discrepancy[0]))\n",
    "        return discrepancy\n",
    "    \n",
    "    opt_result = minimize(fun_to_minimize,\n",
    "                          np.array([start_variance],dtype='float'),\n",
    "                          method='Nelder-Mead',\n",
    "                          tol=tolerance,)\n",
    "    return (opt_result.success, {'variance':opt_result.x[0]})"
   ]
  },
  {
   "cell_type": "code",
   "execution_count": 17,
   "metadata": {
    "scrolled": true
   },
   "outputs": [
    {
     "name": "stderr",
     "output_type": "stream",
     "text": [
      "C:\\Users\\ching\\anaconda3\\lib\\site-packages\\numpy\\core\\fromnumeric.py:87: VisibleDeprecationWarning: Creating an ndarray from ragged nested sequences (which is a list-or-tuple of lists-or-tuples-or ndarrays with different lengths or shapes) is deprecated. If you meant to do this, you must specify 'dtype=object' when creating the ndarray.\n",
      "  return ufunc.reduce(obj, axis, dtype, out, **passkwargs)\n"
     ]
    },
    {
     "name": "stdout",
     "output_type": "stream",
     "text": [
      "variance: 10.0 ; discrepancy: 6301.765068749858\n",
      "variance: 10.5 ; discrepancy: 6304.785583148649\n",
      "variance: 9.5 ; discrepancy: 6298.7121212072825\n",
      "variance: 9.0 ; discrepancy: 6295.633678940473\n",
      "variance: 8.0 ; discrepancy: 6289.441675556569\n",
      "variance: 7.0 ; discrepancy: 6283.3139580655325\n",
      "variance: 5.0 ; discrepancy: 6272.408333242357\n",
      "variance: 3.0 ; discrepancy: 6269.535470559819\n"
     ]
    },
    {
     "name": "stderr",
     "output_type": "stream",
     "text": [
      "<ipython-input-15-9aa6b36ea527>:42: RuntimeWarning: overflow encountered in exp\n",
      "  p_iq = np.exp(winner_mean/c_iq)/(np.exp(winner_mean/c_iq) + np.exp(loser_mean/c_iq))\n",
      "<ipython-input-15-9aa6b36ea527>:42: RuntimeWarning: invalid value encountered in true_divide\n",
      "  p_iq = np.exp(winner_mean/c_iq)/(np.exp(winner_mean/c_iq) + np.exp(loser_mean/c_iq))\n",
      "<ipython-input-15-9aa6b36ea527>:43: RuntimeWarning: overflow encountered in exp\n",
      "  p_qi = np.exp(loser_mean/c_iq)/(np.exp(winner_mean/c_iq) + np.exp(loser_mean/c_iq))\n",
      "<ipython-input-15-9aa6b36ea527>:43: RuntimeWarning: invalid value encountered in true_divide\n",
      "  p_qi = np.exp(loser_mean/c_iq)/(np.exp(winner_mean/c_iq) + np.exp(loser_mean/c_iq))\n",
      "<ipython-input-15-9aa6b36ea527>:53: RuntimeWarning: invalid value encountered in sqrt\n",
      "  eta_q = gamma_q * (np.sqrt(winner_var)/c_iq)**2 * p_iq * p_qi\n",
      "<ipython-input-15-9aa6b36ea527>:54: RuntimeWarning: invalid value encountered in sqrt\n",
      "  eta_i = gamma_q * (np.sqrt(loser_var)/c_iq)**2 * p_iq * p_qi\n",
      "<ipython-input-15-9aa6b36ea527>:63: RuntimeWarning: invalid value encountered in true_divide\n",
      "  new_rating[current_players[0]] = (winner1_mean + winner1_var/winner_var*omega_i, winner1_var*np.max([1-winner1_var/winner_var*Delta_i,k]))\n",
      "<ipython-input-15-9aa6b36ea527>:64: RuntimeWarning: invalid value encountered in true_divide\n",
      "  new_rating[current_players[1]] = (winner2_mean + winner2_var/winner_var*omega_i, winner2_var*np.max([1-winner2_var/winner_var*Delta_i,k]))\n",
      "<ipython-input-15-9aa6b36ea527>:66: RuntimeWarning: invalid value encountered in true_divide\n",
      "  new_rating[current_players[2]] = (loser1_mean + loser1_var/loser_var*omega_q, loser1_var*np.max([1-loser1_var/loser_var*Delta_q,k]))\n",
      "<ipython-input-15-9aa6b36ea527>:67: RuntimeWarning: invalid value encountered in true_divide\n",
      "  new_rating[current_players[3]] = (loser2_mean + loser2_var/loser_var*omega_q, loser2_var*np.max([1-loser2_var/loser_var*Delta_q,k]))\n"
     ]
    },
    {
     "name": "stdout",
     "output_type": "stream",
     "text": [
      "variance: -1.0 ; discrepancy: nan\n",
      "variance: 5.0 ; discrepancy: 6272.408333242357\n",
      "variance: 1.0 ; discrepancy: 6325.312333947751\n",
      "variance: 4.0 ; discrepancy: 6269.029263526946\n",
      "variance: 5.0 ; discrepancy: 6272.408333242357\n",
      "variance: 3.5 ; discrepancy: 6268.566557552525\n",
      "variance: 3.0 ; discrepancy: 6269.535470559819\n",
      "variance: 3.75 ; discrepancy: 6268.656790881609\n",
      "variance: 3.25 ; discrepancy: 6268.828833372913\n",
      "variance: 3.625 ; discrepancy: 6268.572428528411\n",
      "variance: 3.375 ; discrepancy: 6268.64848198861\n",
      "variance: 3.5625 ; discrepancy: 6268.559128737656\n",
      "variance: 3.625 ; discrepancy: 6268.572428528411\n",
      "variance: 3.53125 ; discrepancy: 6268.560178953884\n",
      "variance: 3.59375 ; discrepancy: 6268.563259482969\n",
      "variance: 3.546875 ; discrepancy: 6268.558997125591\n",
      "variance: 3.53125 ; discrepancy: 6268.560178953884\n",
      "variance: 3.5546875 ; discrepancy: 6268.558899900757\n"
     ]
    }
   ],
   "source": [
    "trian_parameter = optimize_parameter(data = Train, start_variance = 10)"
   ]
  },
  {
   "cell_type": "code",
   "execution_count": 18,
   "metadata": {},
   "outputs": [
    {
     "data": {
      "text/plain": [
       "{'variance': 3.5546875}"
      ]
     },
     "execution_count": 18,
     "metadata": {},
     "output_type": "execute_result"
    }
   ],
   "source": [
    "trian_parameter[1]"
   ]
  },
  {
   "cell_type": "markdown",
   "metadata": {},
   "source": [
    "觀察最後一天的每位選手實力參數"
   ]
  },
  {
   "cell_type": "markdown",
   "metadata": {},
   "source": [
    "## accuracy"
   ]
  },
  {
   "cell_type": "code",
   "execution_count": 19,
   "metadata": {},
   "outputs": [],
   "source": [
    "def accuracy(Train, to_use, variance):\n",
    "    '''\n",
    "    Args:\n",
    "        player_rating: 根據之前訓練出的每個時段各選手的評分\n",
    "        data: 資料集\n",
    "    Return:\n",
    "        accurate : the accuracy of the model\n",
    "    '''\n",
    "    count = 0\n",
    "    total = 0\n",
    "    players_rating = calculate_ratings(to_use,start_mean = 1500,start_var = variance ,beta_square = 3**2,k = 0.0001,gamma_q =1/2)\n",
    "    for i in range(Train.shape[0],to_use.shape[0]):\n",
    "        # get the current winners & losers name\n",
    "        data_i = to_use.iloc[i,:]\n",
    "        current_winner1, current_winner2 = data_i['winner1_name'], data_i['winner2_name']\n",
    "        current_loser1, current_loser2 = data_i['loser1_name'], data_i['loser2_name']\n",
    "        # get the current player the prior rating \n",
    "        winner1_rating, winner2_rating = players_rating[0][i][current_winner1][0],players_rating[0][i][current_winner2][0]\n",
    "        loser1_rating, loser2_rating = players_rating[0][i][current_loser1][0],players_rating[0][i][current_loser2][0]\n",
    "        # get the team rating\n",
    "        winner_team = sum([winner1_rating, winner2_rating])\n",
    "        loser_team = sum([loser1_rating, loser2_rating])\n",
    "        # count the correct prediction\n",
    "        if winner_team > loser_team:\n",
    "            count +=1\n",
    "        total +=1\n",
    "    accurate = count / total\n",
    "    return accurate"
   ]
  },
  {
   "cell_type": "code",
   "execution_count": 20,
   "metadata": {},
   "outputs": [],
   "source": [
    "double_accuracy = accuracy(Train,to_use, trian_parameter[-1]['variance'])"
   ]
  },
  {
   "cell_type": "code",
   "execution_count": 21,
   "metadata": {
    "scrolled": true
   },
   "outputs": [
    {
     "name": "stdout",
     "output_type": "stream",
     "text": [
      "The accuracy of model = 63.5939%\n"
     ]
    }
   ],
   "source": [
    "print('The accuracy of model = {:.4f}%'.format(double_accuracy *100))"
   ]
  },
  {
   "cell_type": "markdown",
   "metadata": {},
   "source": [
    "## loglikelihood"
   ]
  },
  {
   "cell_type": "markdown",
   "metadata": {},
   "source": [
    "$P(team\\  i\\  beats\\  q) = (\\dfrac{e^{\\theta_i/c_{iq}}}{e^{\\theta_i/c_{iq}} + e^{\\theta_q/c_{iq}}})^{s_{iq}}$"
   ]
  },
  {
   "cell_type": "markdown",
   "metadata": {},
   "source": [
    "$likelihood = \\prod f_{iq}(z)$"
   ]
  },
  {
   "cell_type": "markdown",
   "metadata": {},
   "source": [
    "$loglikelihood = log(likelihood)$"
   ]
  },
  {
   "cell_type": "code",
   "execution_count": 22,
   "metadata": {},
   "outputs": [],
   "source": [
    "def model_meanloglikelihood(Train, to_use, variance,beta_square):\n",
    "    '''\n",
    "    Args:\n",
    "        player_rating: 根據之前訓練出的每個時段各選手的評分\n",
    "        data: 資料集\n",
    "    Return:\n",
    "        loglikelihood : the loglikelihood of the model\n",
    "    '''\n",
    "    loglikelihood = 0\n",
    "    players_rating = calculate_ratings(to_use,start_mean = 1500,start_var = variance ,beta_square = beta_square,k = 0.0001,gamma_q =1/2)\n",
    "    for i in range(Train.shape[0],to_use.shape[0]):\n",
    "        # get the current winners & losers name\n",
    "        data_i = to_use.iloc[i,:]\n",
    "        current_winner1, current_winner2 = data_i['winner1_name'], data_i['winner2_name']\n",
    "        current_loser1, current_loser2 = data_i['loser1_name'], data_i['loser2_name']\n",
    "        # get the current player the prior rating \n",
    "        winner1_rating, winner2_rating = players_rating[0][i][current_winner1][0],players_rating[0][i][current_winner2][0]\n",
    "        loser1_rating, loser2_rating = players_rating[0][i][current_loser1][0],players_rating[0][i][current_loser2][0]\n",
    "        # get the current player the prior variance \n",
    "        winner1_var, winner2_var = players_rating[0][i][current_winner1][1],players_rating[0][i][current_winner2][1]\n",
    "        loser1_var, loser2_var = players_rating[0][i][current_loser1][1],players_rating[0][i][current_loser2][1]\n",
    "        # get the team rating\n",
    "        winner_mean = sum([winner1_rating, winner2_rating])\n",
    "        winner_var = sum([winner1_var, winner2_var])\n",
    "        loser_mean = sum([loser1_rating, loser2_rating])\n",
    "        loser_var = sum([loser1_var, loser2_var])\n",
    "        # get the c_iq\n",
    "        c_iq = np.sqrt(winner_var + loser_var + 2 * beta_square)\n",
    "        # Likelihood\n",
    "        mp.dps = 30\n",
    "        data_i_loglikelihood = mp.log((mp.exp(winner_mean/c_iq)/(mp.exp(winner_mean/c_iq) + mp.exp(loser_mean/c_iq))))\n",
    "        # calculate loglikelihood\n",
    "        loglikelihood +=data_i_loglikelihood\n",
    "    return loglikelihood/(to_use.shape[0]-Train.shape[0])"
   ]
  },
  {
   "cell_type": "code",
   "execution_count": 23,
   "metadata": {
    "scrolled": true
   },
   "outputs": [],
   "source": [
    "double_loglikelihood = model_meanloglikelihood(Train,to_use,trian_parameter[-1]['variance'],beta_square = 3**2)"
   ]
  },
  {
   "cell_type": "code",
   "execution_count": 24,
   "metadata": {
    "scrolled": false
   },
   "outputs": [
    {
     "name": "stdout",
     "output_type": "stream",
     "text": [
      "The Mean log-likelihood of model = -0.639379216497368316719671599965\n"
     ]
    }
   ],
   "source": [
    "print('The Mean log-likelihood of model = {}'.format(double_loglikelihood))"
   ]
  },
  {
   "cell_type": "markdown",
   "metadata": {},
   "source": [
    "# 結果"
   ]
  },
  {
   "cell_type": "code",
   "execution_count": 25,
   "metadata": {},
   "outputs": [
    {
     "name": "stdout",
     "output_type": "stream",
     "text": [
      "The accuracy of model = 63.5939%\n",
      "The Mean log-likelihood of model = -0.639379216497368316719671599965\n"
     ]
    }
   ],
   "source": [
    "print('The accuracy of model = {:.4f}%'.format(double_accuracy *100))\n",
    "print('The Mean log-likelihood of model = {}'.format(double_loglikelihood))"
   ]
  }
 ],
 "metadata": {
  "kernelspec": {
   "display_name": "Python 3",
   "language": "python",
   "name": "python3"
  },
  "language_info": {
   "codemirror_mode": {
    "name": "ipython",
    "version": 3
   },
   "file_extension": ".py",
   "mimetype": "text/x-python",
   "name": "python",
   "nbconvert_exporter": "python",
   "pygments_lexer": "ipython3",
   "version": "3.8.5"
  },
  "latex_envs": {
   "LaTeX_envs_menu_present": true,
   "autoclose": false,
   "autocomplete": true,
   "bibliofile": "biblio.bib",
   "cite_by": "apalike",
   "current_citInitial": 1,
   "eqLabelWithNumbers": true,
   "eqNumInitial": 1,
   "hotkeys": {
    "equation": "Ctrl-E",
    "itemize": "Ctrl-I"
   },
   "labels_anchors": false,
   "latex_user_defs": false,
   "report_style_numbering": false,
   "user_envs_cfg": false
  },
  "toc": {
   "base_numbering": 1,
   "nav_menu": {},
   "number_sections": true,
   "sideBar": true,
   "skip_h1_title": false,
   "title_cell": "Table of Contents",
   "title_sidebar": "Contents",
   "toc_cell": false,
   "toc_position": {
    "height": "calc(100% - 180px)",
    "left": "10px",
    "top": "150px",
    "width": "362.969px"
   },
   "toc_section_display": true,
   "toc_window_display": true
  }
 },
 "nbformat": 4,
 "nbformat_minor": 4
}
